{
 "cells": [
  {
   "cell_type": "code",
   "execution_count": 1,
   "metadata": {},
   "outputs": [
    {
     "name": "stderr",
     "output_type": "stream",
     "text": [
      "/home/alex/anaconda3/envs/nlp_a4/lib/python3.7/site-packages/tqdm/auto.py:22: TqdmWarning: IProgress not found. Please update jupyter and ipywidgets. See https://ipywidgets.readthedocs.io/en/stable/user_install.html\n",
      "  from .autonotebook import tqdm as notebook_tqdm\n",
      "[nltk_data] Downloading package brown to /home/alex/nltk_data...\n",
      "[nltk_data]   Package brown is already up-to-date!\n"
     ]
    }
   ],
   "source": [
    "import torch\n",
    "from torch import nn\n",
    "from torch.utils.data import Dataset, DataLoader, random_split\n",
    "import nltk, string, random, numpy, os\n",
    "import matplotlib.pyplot as plt\n",
    "from typing import List\n",
    "os.makedirs('./results', exist_ok=True)\n",
    "nltk.download('brown')\n",
    "random.seed(42)\n",
    "torch.manual_seed(42)\n",
    "numpy.random.seed(42)"
   ]
  },
  {
   "cell_type": "markdown",
   "metadata": {},
   "source": [
    "### Introduction\n",
    "In the warm-up of this assignment, we will see how Neural Networks (NN) handle natural language data.   \n",
    "The warm-up focuses on a simple Multilayer Perceptron (MLP), also known as a fully connected Neural Network. The data we'll use is the first 5000 unique words of the Brown corpus.\n",
    "\n",
    "### Dataset\n",
    "To train the model, we will have to represent the input words to the model in some way. Since models solely work with numbers, the words will have to be converted into numerical form.  \n",
    "For this assignment, we will focus on predicting individual words from the dataset given the input of the model. The input will be the target word split up into individual letters. To represent these individual letters we will give the model a vector of 26 positions (26 letters in the English alphabet). Initially, this vector is filled with zeros and for every occuring letter in the word we change the value to 1 in that position. For instance, in the word `apple', we have 1 a, 1 e, 1 l and 2 p. The vector will then represent the word as:  \n",
    "```[1,0,0,0,1,0,0,0,0,0,0,1,0,0,0,2,0,0,0,0,0,0,0,0,0,0]```  \n",
    "You will have to implement this algorithm together with loading the Brown dataset and taking the first 5000 unique words. Implement a way to store the indexes of the unique words as a dictionary where the word is the key and the index is the value as well as the target list (which will be just the indexes of the words)."
   ]
  },
  {
   "cell_type": "code",
   "execution_count": 6,
   "metadata": {},
   "outputs": [],
   "source": [
    "class AlphaDataset(Dataset):\n",
    "    def __init__(self) -> None:\n",
    "        # Load the NLTK Brown corpus and store the first 5000 unique words of the corpus in self.data\n",
    "        data = nltk.corpus.brown.words()\n",
    "        data = list(set(data))\n",
    "        self.data = data[:5000]\n",
    "        # Convert the unique words to an index dictionary {word: index}\n",
    "        self.word_to_idx =  {word: idx for idx, word in enumerate(self.data)}\n",
    "        # Make these indexes the target values\n",
    "        self.targets = [self.word_to_idx[word] for word in self.data]\n",
    "\n",
    "    def __len__(self) -> int:\n",
    "        # Torch requires the implementation of the length function to calculate the number of instances in the dataset. Find a way to implement this\n",
    "        return len(self.data)\n",
    "\n",
    "    def __getitem__(self, index):\n",
    "        x = self.data[index]\n",
    "        y = self.targets[index]\n",
    "\n",
    "        embedding = [0] * 26\n",
    "        for char in x.lower():\n",
    "            if char in string.ascii_lowercase:\n",
    "                embedding[ord(char) - ord('a')] += 1\n",
    "\n",
    "        # Apply processing to turn the word (stored in x) into a numeric vector of 26 numbers, counting the occurences of the letters.\n",
    "        # Example: apple would become [1,0,0,0,1,0,0,0,0,0,0,1,0,0,0,2,0,0,0,0,0,0,0,0,0,0], counting 2 occurences for the letter p and zero for letters that do not occur.\n",
    "\n",
    "        x = torch.tensor(embedding, dtype=torch.float32)\n",
    "        y = torch.tensor(y, dtype=torch.long)\n",
    "        return x, y\n",
    "    "
   ]
  },
  {
   "cell_type": "markdown",
   "metadata": {},
   "source": [
    "### Multilayer Perceptron\n",
    "In the following section, you will implement a MLP. The goal is to implement this MLP with 1 input layer, 2 hidden layers, and 1 output layer.\n",
    "With PyTorch, the linear layer is most suitable for this. When you create a linear layer, you define the input and output size of the layer, effectively creating two linear neuron layers. This is useful to know since we only need to create 3 linear layer classes to have the 4 layers we want.\n",
    "The hidden size is stored as a list where the first value will be 256 and the second value will be 512."
   ]
  },
  {
   "cell_type": "code",
   "execution_count": 3,
   "metadata": {},
   "outputs": [],
   "source": [
    "class MLP(nn.Module):\n",
    "    def __init__(self, input_size: int, hidden_size: List[int], output_size: int) -> None:\n",
    "        super().__init__()\n",
    "        # Implement the neural network layers, the activation function is already defined\n",
    "        self.input_layer = torch.nn.Linear(input_size, hidden_size[0])\n",
    "        self.hidden_layer = torch.nn.Linear(hidden_size[0], hidden_size[1])\n",
    "        self.output_layer = torch.nn.Linear(hidden_size[1], output_size)\n",
    "\n",
    "        self.activation = nn.ReLU()\n",
    "\n",
    "    def forward(self, x: torch.Tensor) -> torch.Tensor:\n",
    "        # In the forward pass the model will calculate the gradients as well as the probabilities of the result occuring given its input.\n",
    "        # Implement the missing layers\n",
    "\n",
    "        x = self.input_layer(x)\n",
    "        x = self.activation(x)\n",
    "        x = self.hidden_layer(x)\n",
    "        x = self.activation(x)\n",
    "        x = self.output_layer(x)\n",
    "\n",
    "        return x"
   ]
  },
  {
   "cell_type": "markdown",
   "metadata": {},
   "source": [
    "### Setting up the hyperparameters\n",
    "These are the hyperparameters used for the model, they define the layout of the model as well as the performance:\n",
    "- batch_size, defines the number of instances the model sees at one time.\n",
    "- learning_rate, defines the change rate of the gradient descent.\n",
    "- input_size, the number of input neurons for the model, the number of letters in the alphabet\n",
    "- hidden_size, the number of neurons in the hidden layer\n",
    "- output_size, the number of neurons in the output layer, for us this is the number of unqiue words"
   ]
  },
  {
   "cell_type": "code",
   "execution_count": 9,
   "metadata": {},
   "outputs": [],
   "source": [
    "batch_size = 8\n",
    "learning_rate = 1e-5\n",
    "input_size = 26\n",
    "hidden_size = [256, 512]\n",
    "output_size = 5000\n",
    "device = 'cpu' # If you have an m1 macbook use: 'mbp', if you have an NVIDIA GPU use: 'cuda:0' else leave as is"
   ]
  },
  {
   "cell_type": "markdown",
   "metadata": {},
   "source": [
    "Setting up the dataset"
   ]
  },
  {
   "cell_type": "code",
   "execution_count": 10,
   "metadata": {},
   "outputs": [],
   "source": [
    "# Define the dataset and the dataloader\n",
    "dataset = AlphaDataset()\n",
    "\n",
    "# For the final evaluation of the model we will use 20% of the data for testing. Testing is only ever done after hyperparameter tuning.\n",
    "# Split sizes (80% train, 20% test)\n",
    "train_size = int(0.8 * len(dataset))\n",
    "test_size = len(dataset) - train_size\n",
    "train_dataset, test_dataset = random_split(dataset, [train_size, test_size])\n",
    "\n",
    "# To evaluate our model we want to take 10% of the dataset for validation, this is similar to the testset, rather this data we can use during hyperparameter tuning.\n",
    "# The validation and test data is never trained on and is unseen data for the model, making it closer to a production setting.\n",
    "train_size = int(0.9 * len(train_dataset))\n",
    "val_size = len(train_dataset) - train_size\n",
    "train_dataset, val_dataset = random_split(train_dataset, [train_size, val_size])\n",
    "\n",
    "train_loader = DataLoader(train_dataset, batch_size=batch_size, shuffle=True) # Shuffling ensures the model does not overfit on ordering of the data.\n",
    "test_loader = DataLoader(test_dataset, batch_size=batch_size, shuffle=False) # This data does not need to be shuffled\n",
    "val_loader = DataLoader(val_dataset, batch_size=batch_size, shuffle=False)  #T his data does not need to be shuffled"
   ]
  },
  {
   "cell_type": "markdown",
   "metadata": {},
   "source": [
    "### Preperation for training\n",
    "Here we load the model into memory, apply it to the selected device and define the optimizer. The optimizer guides the model to the best possible state it can be in through Gradient descent.\n",
    "Lastly, the loss function is defined, this defines how well the model performs, based on this number the model knows how it should change its weights."
   ]
  },
  {
   "cell_type": "code",
   "execution_count": 11,
   "metadata": {},
   "outputs": [],
   "source": [
    "model = MLP(input_size, hidden_size, output_size)\n",
    "model.to(device) # Tell de model which accelerator to use (Macbook GPU, NVIDIA GPU or CPU)\n",
    "\n",
    "# In Neural Networks optimizers handle the efficient training through gradient descent, we will use Adam\n",
    "optimizer = torch.optim.Adam(params=model.parameters(), lr=learning_rate)\n",
    "\n",
    "# The loss function defines how well the model is performing, if the loss is low the model is rewarded, if it is high the model is punished.\n",
    "# Since we are dealing with a classification task we will use Cross Entropy\n",
    "loss_fn = nn.CrossEntropyLoss()"
   ]
  },
  {
   "cell_type": "markdown",
   "metadata": {},
   "source": [
    "### Training\n",
    "In the next block the training block is already defined. This is a standard way to train the model for 50 epochs (50 times it will see the dataset). Each time it does one epoch we also go over the validationset."
   ]
  },
  {
   "cell_type": "code",
   "execution_count": 12,
   "metadata": {},
   "outputs": [
    {
     "name": "stdout",
     "output_type": "stream",
     "text": [
      "Training_loss: 8.582656860351562\n",
      "Validation_loss: 1.0694255542755127\n",
      "Training_loss: 8.455168724060059\n",
      "Validation_loss: 1.0808128428459167\n",
      "Training_loss: 8.313003540039062\n",
      "Validation_loss: 1.0994712591171265\n",
      "Training_loss: 8.26032829284668\n",
      "Validation_loss: 1.1305479073524476\n",
      "Training_loss: 8.065718650817871\n",
      "Validation_loss: 1.175677695274353\n",
      "Training_loss: 7.796915531158447\n",
      "Validation_loss: 1.2306990003585816\n",
      "Training_loss: 7.87078857421875\n",
      "Validation_loss: 1.2904150676727295\n",
      "Training_loss: 7.628386497497559\n",
      "Validation_loss: 1.3509221124649047\n",
      "Training_loss: 7.289324760437012\n",
      "Validation_loss: 1.4114833188056946\n",
      "Training_loss: 7.485624313354492\n",
      "Validation_loss: 1.4721637177467346\n",
      "Training_loss: 7.368491172790527\n",
      "Validation_loss: 1.5340542387962341\n",
      "Training_loss: 7.421064853668213\n",
      "Validation_loss: 1.5977390956878663\n",
      "Training_loss: 7.2226057052612305\n",
      "Validation_loss: 1.6636906242370606\n",
      "Training_loss: 6.917443752288818\n",
      "Validation_loss: 1.7328591966629028\n",
      "Training_loss: 6.742266654968262\n",
      "Validation_loss: 1.8052694821357727\n",
      "Training_loss: 6.662413597106934\n",
      "Validation_loss: 1.882014307975769\n",
      "Training_loss: 6.832426071166992\n",
      "Validation_loss: 1.962541253566742\n",
      "Training_loss: 6.656185150146484\n",
      "Validation_loss: 2.0477085447311403\n",
      "Training_loss: 6.360529899597168\n",
      "Validation_loss: 2.136975748538971\n",
      "Training_loss: 6.28264045715332\n",
      "Validation_loss: 2.2315282130241396\n",
      "Training_loss: 6.412637710571289\n",
      "Validation_loss: 2.3314970207214354\n",
      "Training_loss: 5.734490394592285\n",
      "Validation_loss: 2.4360313749313356\n",
      "Training_loss: 5.870616912841797\n",
      "Validation_loss: 2.546176176071167\n",
      "Training_loss: 5.930515289306641\n",
      "Validation_loss: 2.6613688039779664\n",
      "Training_loss: 4.7100396156311035\n",
      "Validation_loss: 2.780717124938965\n",
      "Training_loss: 5.3668694496154785\n",
      "Validation_loss: 2.9061713218688965\n",
      "Training_loss: 5.553213596343994\n",
      "Validation_loss: 3.0361386823654173\n",
      "Training_loss: 5.685016632080078\n",
      "Validation_loss: 3.1692391347885134\n",
      "Training_loss: 4.9959330558776855\n",
      "Validation_loss: 3.3066811561584473\n",
      "Training_loss: 4.720612525939941\n",
      "Validation_loss: 3.446944918632507\n",
      "Training_loss: 4.68060302734375\n",
      "Validation_loss: 3.5909334087371825\n",
      "Training_loss: 5.079263210296631\n",
      "Validation_loss: 3.738270387649536\n",
      "Training_loss: 3.96376633644104\n",
      "Validation_loss: 3.8868681669235228\n",
      "Training_loss: 3.937391757965088\n",
      "Validation_loss: 4.036290783882141\n",
      "Training_loss: 4.9068145751953125\n",
      "Validation_loss: 4.187709636688233\n",
      "Training_loss: 3.8532323837280273\n",
      "Validation_loss: 4.339094290733337\n",
      "Training_loss: 4.155804634094238\n",
      "Validation_loss: 4.4908080625534055\n",
      "Training_loss: 3.3026585578918457\n",
      "Validation_loss: 4.642523350715638\n",
      "Training_loss: 3.5335819721221924\n",
      "Validation_loss: 4.793446779251099\n",
      "Training_loss: 3.6023218631744385\n",
      "Validation_loss: 4.942325897216797\n",
      "Training_loss: 3.664173126220703\n",
      "Validation_loss: 5.090863561630249\n",
      "Training_loss: 3.2171730995178223\n",
      "Validation_loss: 5.236394672393799\n",
      "Training_loss: 2.95147705078125\n",
      "Validation_loss: 5.381092262268067\n",
      "Training_loss: 3.203646659851074\n",
      "Validation_loss: 5.5253020191192626\n",
      "Training_loss: 2.8077211380004883\n",
      "Validation_loss: 5.665309753417969\n",
      "Training_loss: 2.79355788230896\n",
      "Validation_loss: 5.804426412582398\n",
      "Training_loss: 3.1010680198669434\n",
      "Validation_loss: 5.940510091781616\n",
      "Training_loss: 3.2449047565460205\n",
      "Validation_loss: 6.075737981796265\n",
      "Training_loss: 1.9839975833892822\n",
      "Validation_loss: 6.2098390579223635\n",
      "Training_loss: 2.9451992511749268\n",
      "Validation_loss: 6.34044153213501\n"
     ]
    }
   ],
   "source": [
    "training_losses = []\n",
    "validation_losses = []\n",
    "\n",
    "for epoch in range(50): # Train for 50 epochs\n",
    "    model.train() # Enforce model training\n",
    "    for step, (x, y) in enumerate(train_loader):\n",
    "        x = x.to(device)\n",
    "        y = y.to(device)\n",
    "\n",
    "        output = model(x)\n",
    "\n",
    "        loss = loss_fn(output, y)\n",
    "\n",
    "        training_losses.append(loss.item())\n",
    "        print(loss.item(), end='\\r')\n",
    "\n",
    "        loss.backward() # Calculate gradients\n",
    "\n",
    "        optimizer.step() # Reward the model\n",
    "        optimizer.zero_grad() # Clean the gradients\n",
    "    print('Training_loss:', loss.item())\n",
    "\n",
    "    model.eval() # After every training epoch we want to see the model's performance on the validation data\n",
    "    with torch.no_grad(): # In validation we dont need gradients so we tell torch to not calculate them\n",
    "        total_val_loss = 0\n",
    "        for step, (x, y) in enumerate(val_loader):\n",
    "            x = x.to(device)\n",
    "            y = y.to(device)\n",
    "\n",
    "            output = model(x)\n",
    "\n",
    "            loss = loss_fn(output, y)\n",
    "\n",
    "            total_val_loss += loss.item()\n",
    "\n",
    "        validation_losses.append(total_val_loss / len(val_dataset))\n",
    "        print('Validation_loss:', validation_losses[-1])"
   ]
  },
  {
   "cell_type": "markdown",
   "metadata": {},
   "source": [
    "### Writing\n",
    "Below we can print the training statistics, the training loss should be going down while the validation loss should be going up. What does it mean that the validation loss increases?\n",
    "\n",
    "That means we are overfitting to the training set\n"
   ]
  },
  {
   "cell_type": "code",
   "execution_count": 13,
   "metadata": {},
   "outputs": [
    {
     "data": {
      "image/png": "[encoded data removed]",
      "text/plain": [
       "<Figure size 960x720 with 1 Axes>"
      ]
     },
     "metadata": {},
     "output_type": "display_data"
    }
   ],
   "source": [
    "plt.rcParams['figure.dpi'] = 150\n",
    "plt.plot(training_losses)\n",
    "plt.xlabel('steps')\n",
    "plt.ylabel('loss')\n",
    "plt.title('Training Loss')\n",
    "plt.savefig('./results/training_loss.png')"
   ]
  },
  {
   "cell_type": "code",
   "execution_count": 14,
   "metadata": {},
   "outputs": [
    {
     "data": {
      "image/png": "[encoded data removed]",
      "text/plain": [
       "<Figure size 960x720 with 1 Axes>"
      ]
     },
     "metadata": {},
     "output_type": "display_data"
    }
   ],
   "source": [
    "plt.plot(validation_losses)\n",
    "plt.xlabel('steps')\n",
    "plt.ylabel('loss')\n",
    "plt.title('Validation Loss')\n",
    "plt.savefig('./results/validation_loss.png')"
   ]
  },
  {
   "cell_type": "markdown",
   "metadata": {},
   "source": [
    "### Writing\n",
    "Belowe we want to analyze how the model functions based on the test data. What stands out from these results? Was the result correct? What is the main difference between the words?\n",
    "\n",
    "None of the predicted words is correct. This is expected as the model has never even seen the indeces of the test set. The general letter composition is similar though."
   ]
  },
  {
   "cell_type": "code",
   "execution_count": null,
   "metadata": {},
   "outputs": [
    {
     "name": "stdout",
     "output_type": "stream",
     "text": [
      "target: Kissing           predicted: insisting\n",
      "target: full-fledged      predicted: fuller\n",
      "target: requires          predicted: reimburse\n",
      "target: protection        predicted: projection\n",
      "target: Lorrain           predicted: ironical\n",
      "target: Gradually         predicted: gradual\n",
      "target: cracking          predicted: anarchic\n",
      "target: Telephones        predicted: Nonetheless\n",
      "target: endeavoring       predicted: fine-grained\n",
      "target: stylish           predicted: skylight\n"
     ]
    },
    {
     "name": "stderr",
     "output_type": "stream",
     "text": [
      "/home/alex/anaconda3/envs/nlp_a4/lib/python3.7/site-packages/ipykernel_launcher.py:7: UserWarning: Implicit dimension choice for softmax has been deprecated. Change the call to include dim=X as an argument.\n",
      "  import sys\n"
     ]
    }
   ],
   "source": [
    "def get_n_words(dataset, n, model, ds, verbose = True):\n",
    "    if n == -1:\n",
    "        n = len(dataset)\n",
    "    x = [dataset.__getitem__(i)[0] for i in range(n)]\n",
    "    y = [dataset.__getitem__(i)[1] for i in range(n)]\n",
    "    target_words = [{idx: word for word, idx in ds.word_to_idx.items()}[_.item()] for _ in y]\n",
    "    out = [nn.functional.softmax(model(wrd)).argmax() for wrd in x]\n",
    "    predicted_words = [{idx: word for word, idx in ds.word_to_idx.items()}[_.item()] for _ in out]\n",
    "    width = max(len(word) for word in target_words) + 5\n",
    "    if verbose:\n",
    "        print('\\n'.join([f'target: {t.ljust(width)} predicted: {p}' for t, p in zip(target_words, predicted_words)]))\n",
    "    return target_words, predicted_words\n",
    "\n",
    "_,_ = get_n_words(test_dataset, 10, model, dataset)"
   ]
  },
  {
   "cell_type": "markdown",
   "metadata": {},
   "source": [
    "Why are some words incorrectly predicted?\n",
    "\n",
    "see above, the model doesnt know the indeces of the test set"
   ]
  },
  {
   "cell_type": "markdown",
   "metadata": {},
   "source": [
    "### Code + Written\n",
    "Research the Jaccard similarity metric for calculating the difference between the predicted word and the target word. Reference your sources and implement this metric in your code below. You can use the get_n_words function with n=-1 to get all the predicted and target words. Compare this method to similarity as measured with one of the word vector methods from A2, in writing and/or code.\n",
    "\n",
    "[Your answer here]"
   ]
  },
  {
   "cell_type": "code",
   "execution_count": null,
   "metadata": {},
   "outputs": [
    {
     "name": "stderr",
     "output_type": "stream",
     "text": [
      "/home/alex/anaconda3/envs/nlp_a4/lib/python3.7/site-packages/ipykernel_launcher.py:7: UserWarning: Implicit dimension choice for softmax has been deprecated. Change the call to include dim=X as an argument.\n",
      "  import sys\n"
     ]
    },
    {
     "name": "stdout",
     "output_type": "stream",
     "text": [
      "Jaccard similarity: 0.57845012397733\n"
     ]
    }
   ],
   "source": [
    "# compare with jaccard similarity\n",
    "# from https://mayurdhvajsinhjadeja.medium.com/jaccard-similarity-34e2c15fb524\n",
    "target_words,predicted_words = get_n_words(test_dataset, -1, model, dataset,verbose=False)\n",
    "def jaccard_similarity(w1, w2):\n",
    "    set1 = set(w1)\n",
    "    set2 = set(w2)\n",
    "    return len(set1.intersection(set2)) / len(set1.union(set2))\n",
    "similarities = [jaccard_similarity(t, p) for t, p in zip(target_words, predicted_words)]\n",
    "print(f'Jaccard similarity: {sum(similarities) / len(similarities)}')"
   ]
  },
  {
   "cell_type": "code",
   "execution_count": null,
   "metadata": {},
   "outputs": [],
   "source": [
    "# Method 2"
   ]
  },
  {
   "cell_type": "markdown",
   "metadata": {},
   "source": [
    "\n",
    "\n",
    "\n",
    "\n",
    "\n",
    "\n",
    "\n",
    "\n",
    " "
   ]
  }
 ],
 "metadata": {
  "kernelspec": {
   "display_name": "nlp_a4",
   "language": "python",
   "name": "python3"
  },
  "language_info": {
   "codemirror_mode": {
    "name": "ipython",
    "version": 3
   },
   "file_extension": ".py",
   "mimetype": "text/x-python",
   "name": "python",
   "nbconvert_exporter": "python",
   "pygments_lexer": "ipython3",
   "version": "3.7.12"
  }
 },
 "nbformat": 4,
 "nbformat_minor": 2
}
