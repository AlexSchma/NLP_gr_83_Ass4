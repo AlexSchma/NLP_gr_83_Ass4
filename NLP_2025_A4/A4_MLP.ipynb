{
 "cells": [
  {
   "cell_type": "code",
   "execution_count": 2,
   "metadata": {},
   "outputs": [
    {
     "name": "stderr",
     "output_type": "stream",
     "text": [
      "[nltk_data] Downloading package brown to /home/vaino/nltk_data...\n",
      "[nltk_data]   Package brown is already up-to-date!\n"
     ]
    }
   ],
   "source": [
    "import torch\n",
    "from torch import nn\n",
    "from torch.utils.data import Dataset, DataLoader, random_split\n",
    "import nltk, string, random, numpy, os\n",
    "import matplotlib.pyplot as plt\n",
    "from typing import List\n",
    "os.makedirs('./results', exist_ok=True)\n",
    "nltk.download('brown')\n",
    "random.seed(42)\n",
    "torch.manual_seed(42)\n",
    "numpy.random.seed(42)"
   ]
  },
  {
   "cell_type": "markdown",
   "metadata": {},
   "source": [
    "### Introduction\n",
    "In the warm-up of this assignment, we will see how Neural Networks (NN) handle natural language data.   \n",
    "The warm-up focuses on a simple Multilayer Perceptron (MLP), also known as a fully connected Neural Network. The data we'll use is the first 5000 unique words of the Brown corpus.\n",
    "\n",
    "### Dataset\n",
    "To train the model, we will have to represent the input words to the model in some way. Since models solely work with numbers, the words will have to be converted into numerical form.  \n",
    "For this assignment, we will focus on predicting individual words from the dataset given the input of the model. The input will be the target word split up into individual letters. To represent these individual letters we will give the model a vector of 26 positions (26 letters in the English alphabet). Initially, this vector is filled with zeros and for every occuring letter in the word we change the value to 1 in that position. For instance, in the word `apple', we have 1 a, 1 e, 1 l and 2 p. The vector will then represent the word as:  \n",
    "```[1,0,0,0,1,0,0,0,0,0,0,1,0,0,0,2,0,0,0,0,0,0,0,0,0,0]```  \n",
    "You will have to implement this algorithm together with loading the Brown dataset and taking the first 5000 unique words. Implement a way to store the indexes of the unique words as a dictionary where the word is the key and the index is the value as well as the target list (which will be just the indexes of the words)."
   ]
  },
  {
   "cell_type": "code",
   "execution_count": 3,
   "metadata": {},
   "outputs": [],
   "source": [
    "class AlphaDataset(Dataset):\n",
    "    def __init__(self) -> None:\n",
    "        # Load the NLTK Brown corpus and store the first 5000 unique words of the corpus in self.data\n",
    "        data = nltk.corpus.brown.words()\n",
    "        data = list(set(data))\n",
    "        self.data = data[:5000]\n",
    "        # Convert the unique words to an index dictionary {word: index}\n",
    "        self.word_to_idx =  {word: idx for idx, word in enumerate(self.data)}\n",
    "        # Make these indexes the target values\n",
    "        self.targets = [self.word_to_idx[word] for word in self.data]\n",
    "\n",
    "    def __len__(self) -> int:\n",
    "        # Torch requires the implementation of the length function to calculate the number of instances in the dataset. Find a way to implement this\n",
    "        return len(self.data)\n",
    "\n",
    "    def __getitem__(self, index):\n",
    "        x = self.data[index]\n",
    "        y = self.targets[index]\n",
    "\n",
    "        embedding = [0] * 26\n",
    "        for char in x.lower():\n",
    "            if char in string.ascii_lowercase:\n",
    "                embedding[ord(char) - ord('a')] += 1\n",
    "\n",
    "        # Apply processing to turn the word (stored in x) into a numeric vector of 26 numbers, counting the occurences of the letters.\n",
    "        # Example: apple would become [1,0,0,0,1,0,0,0,0,0,0,1,0,0,0,2,0,0,0,0,0,0,0,0,0,0], counting 2 occurences for the letter p and zero for letters that do not occur.\n",
    "\n",
    "        x = torch.tensor(embedding, dtype=torch.float32)\n",
    "        y = torch.tensor(y, dtype=torch.long)\n",
    "        return x, y\n",
    "    "
   ]
  },
  {
   "cell_type": "markdown",
   "metadata": {},
   "source": [
    "### Multilayer Perceptron\n",
    "In the following section, you will implement a MLP. The goal is to implement this MLP with 1 input layer, 2 hidden layers, and 1 output layer.\n",
    "With PyTorch, the linear layer is most suitable for this. When you create a linear layer, you define the input and output size of the layer, effectively creating two linear neuron layers. This is useful to know since we only need to create 3 linear layer classes to have the 4 layers we want.\n",
    "The hidden size is stored as a list where the first value will be 256 and the second value will be 512."
   ]
  },
  {
   "cell_type": "code",
   "execution_count": 4,
   "metadata": {},
   "outputs": [],
   "source": [
    "class MLP(nn.Module):\n",
    "    def __init__(self, input_size: int, hidden_size: List[int], output_size: int) -> None:\n",
    "        super().__init__()\n",
    "        # Implement the neural network layers, the activation function is already defined\n",
    "        self.input_layer = torch.nn.Linear(input_size, hidden_size[0])\n",
    "        self.hidden_layer = torch.nn.Linear(hidden_size[0], hidden_size[1])\n",
    "        self.output_layer = torch.nn.Linear(hidden_size[1], output_size)\n",
    "\n",
    "        self.activation = nn.ReLU()\n",
    "\n",
    "    def forward(self, x: torch.Tensor) -> torch.Tensor:\n",
    "        # In the forward pass the model will calculate the gradients as well as the probabilities of the result occuring given its input.\n",
    "        # Implement the missing layers\n",
    "\n",
    "        x = self.input_layer(x)\n",
    "        x = self.activation(x)\n",
    "        x = self.hidden_layer(x)\n",
    "        x = self.activation(x)\n",
    "        x = self.output_layer(x)\n",
    "\n",
    "        return x"
   ]
  },
  {
   "cell_type": "markdown",
   "metadata": {},
   "source": [
    "### Setting up the hyperparameters\n",
    "These are the hyperparameters used for the model, they define the layout of the model as well as the performance:\n",
    "- batch_size, defines the number of instances the model sees at one time.\n",
    "- learning_rate, defines the change rate of the gradient descent.\n",
    "- input_size, the number of input neurons for the model, the number of letters in the alphabet\n",
    "- hidden_size, the number of neurons in the hidden layer\n",
    "- output_size, the number of neurons in the output layer, for us this is the number of unqiue words"
   ]
  },
  {
   "cell_type": "code",
   "execution_count": 6,
   "metadata": {},
   "outputs": [],
   "source": [
    "batch_size = 8\n",
    "learning_rate = 1e-5\n",
    "input_size = 26\n",
    "hidden_size = [256, 512]\n",
    "output_size = 5000\n",
    "device = 'cpu' # If you have an m1 macbook use: 'mbp', if you have an NVIDIA GPU use: 'cuda:0' else leave as is"
   ]
  },
  {
   "cell_type": "markdown",
   "metadata": {},
   "source": [
    "Setting up the dataset"
   ]
  },
  {
   "cell_type": "code",
   "execution_count": 7,
   "metadata": {},
   "outputs": [],
   "source": [
    "# Define the dataset and the dataloader\n",
    "dataset = AlphaDataset()\n",
    "\n",
    "# For the final evaluation of the model we will use 20% of the data for testing. Testing is only ever done after hyperparameter tuning.\n",
    "# Split sizes (80% train, 20% test)\n",
    "train_size = int(0.8 * len(dataset))\n",
    "test_size = len(dataset) - train_size\n",
    "train_dataset, test_dataset = random_split(dataset, [train_size, test_size])\n",
    "\n",
    "# To evaluate our model we want to take 10% of the dataset for validation, this is similar to the testset, rather this data we can use during hyperparameter tuning.\n",
    "# The validation and test data is never trained on and is unseen data for the model, making it closer to a production setting.\n",
    "train_size = int(0.9 * len(train_dataset))\n",
    "val_size = len(train_dataset) - train_size\n",
    "train_dataset, val_dataset = random_split(train_dataset, [train_size, val_size])\n",
    "\n",
    "train_loader = DataLoader(train_dataset, batch_size=batch_size, shuffle=True) # Shuffling ensures the model does not overfit on ordering of the data.\n",
    "test_loader = DataLoader(test_dataset, batch_size=batch_size, shuffle=False) # This data does not need to be shuffled\n",
    "val_loader = DataLoader(val_dataset, batch_size=batch_size, shuffle=False)  #T his data does not need to be shuffled"
   ]
  },
  {
   "cell_type": "markdown",
   "metadata": {},
   "source": [
    "### Preperation for training\n",
    "Here we load the model into memory, apply it to the selected device and define the optimizer. The optimizer guides the model to the best possible state it can be in through Gradient descent.\n",
    "Lastly, the loss function is defined, this defines how well the model performs, based on this number the model knows how it should change its weights."
   ]
  },
  {
   "cell_type": "code",
   "execution_count": 8,
   "metadata": {},
   "outputs": [],
   "source": [
    "model = MLP(input_size, hidden_size, output_size)\n",
    "model.to(device) # Tell de model which accelerator to use (Macbook GPU, NVIDIA GPU or CPU)\n",
    "\n",
    "# In Neural Networks optimizers handle the efficient training through gradient descent, we will use Adam\n",
    "optimizer = torch.optim.Adam(params=model.parameters(), lr=learning_rate)\n",
    "\n",
    "# The loss function defines how well the model is performing, if the loss is low the model is rewarded, if it is high the model is punished.\n",
    "# Since we are dealing with a classification task we will use Cross Entropy\n",
    "loss_fn = nn.CrossEntropyLoss()"
   ]
  },
  {
   "cell_type": "markdown",
   "metadata": {},
   "source": [
    "### Training\n",
    "In the next block the training block is already defined. This is a standard way to train the model for 50 epochs (50 times it will see the dataset). Each time it does one epoch we also go over the validationset."
   ]
  },
  {
   "cell_type": "code",
   "execution_count": 9,
   "metadata": {},
   "outputs": [
    {
     "name": "stdout",
     "output_type": "stream",
     "text": [
      "Training_loss: 8.552345275878906\n",
      "Validation_loss: 1.0703099942207337\n",
      "Training_loss: 8.492913246154785\n",
      "Validation_loss: 1.081897349357605\n",
      "Training_loss: 8.330890655517578\n",
      "Validation_loss: 1.1010046339035033\n",
      "Training_loss: 8.147880554199219\n",
      "Validation_loss: 1.1329464268684388\n",
      "Training_loss: 8.04913330078125\n",
      "Validation_loss: 1.1799304175376892\n",
      "Training_loss: 7.951199531555176\n",
      "Validation_loss: 1.2381838703155517\n",
      "Training_loss: 7.6894707679748535\n",
      "Validation_loss: 1.301709656715393\n",
      "Training_loss: 7.604368686676025\n",
      "Validation_loss: 1.3666927337646484\n",
      "Training_loss: 7.6464009284973145\n",
      "Validation_loss: 1.4318412637710571\n",
      "Training_loss: 7.196375370025635\n",
      "Validation_loss: 1.4975477981567382\n",
      "Training_loss: 7.438653469085693\n",
      "Validation_loss: 1.5644958448410033\n",
      "Training_loss: 7.081392765045166\n",
      "Validation_loss: 1.6336160564422608\n",
      "Training_loss: 7.054525375366211\n",
      "Validation_loss: 1.7052775287628175\n",
      "Training_loss: 7.302968978881836\n",
      "Validation_loss: 1.7802276825904846\n",
      "Training_loss: 6.892413139343262\n",
      "Validation_loss: 1.8589313101768494\n",
      "Training_loss: 6.842563629150391\n",
      "Validation_loss: 1.942327299118042\n",
      "Training_loss: 6.832036018371582\n",
      "Validation_loss: 2.0298354768753053\n",
      "Training_loss: 6.771636486053467\n",
      "Validation_loss: 2.1225528717041016\n",
      "Training_loss: 6.457737922668457\n",
      "Validation_loss: 2.221764087677002\n",
      "Training_loss: 6.396914005279541\n",
      "Validation_loss: 2.3258322262763977\n",
      "Training_loss: 5.685768127441406\n",
      "Validation_loss: 2.4364613771438597\n",
      "Training_loss: 5.500208377838135\n",
      "Validation_loss: 2.553230195045471\n",
      "Training_loss: 5.543861389160156\n",
      "Validation_loss: 2.676744289398193\n",
      "Training_loss: 5.8560967445373535\n",
      "Validation_loss: 2.8060109424591064\n",
      "Training_loss: 5.662607192993164\n",
      "Validation_loss: 2.941772475242615\n",
      "Training_loss: 5.125655651092529\n",
      "Validation_loss: 3.083911499977112\n",
      "Training_loss: 5.283968925476074\n",
      "Validation_loss: 3.2299522256851194\n",
      "Training_loss: 5.064815521240234\n",
      "Validation_loss: 3.382491512298584\n",
      "Training_loss: 4.527454376220703\n",
      "Validation_loss: 3.538738694190979\n",
      "Training_loss: 5.169643402099609\n",
      "Validation_loss: 3.6999424171447752\n",
      "Training_loss: 4.490984916687012\n",
      "Validation_loss: 3.863808789253235\n",
      "Training_loss: 4.69852876663208\n",
      "Validation_loss: 4.030370044708252\n",
      "Training_loss: 4.375177383422852\n",
      "Validation_loss: 4.199577975273132\n",
      "Training_loss: 4.253602981567383\n",
      "Validation_loss: 4.370683288574218\n",
      "Training_loss: 3.6928272247314453\n",
      "Validation_loss: 4.543660273551941\n",
      "Training_loss: 3.776193141937256\n",
      "Validation_loss: 4.716728048324585\n",
      "Training_loss: 3.2308502197265625\n",
      "Validation_loss: 4.890222697257996\n",
      "Training_loss: 2.603529930114746\n",
      "Validation_loss: 5.063665866851807\n",
      "Training_loss: 3.635221481323242\n",
      "Validation_loss: 5.236536378860474\n",
      "Training_loss: 3.8386754989624023\n",
      "Validation_loss: 5.408618021011352\n",
      "Training_loss: 3.6930487155914307\n",
      "Validation_loss: 5.578704977035523\n",
      "Training_loss: 3.501607656478882\n",
      "Validation_loss: 5.748494939804077\n",
      "Training_loss: 3.2725255489349365\n",
      "Validation_loss: 5.916426076889038\n",
      "Training_loss: 2.62802791595459\n",
      "Validation_loss: 6.080586595535278\n",
      "Training_loss: 3.1069626808166504\n",
      "Validation_loss: 6.243119411468506\n",
      "Training_loss: 2.550330877304077\n",
      "Validation_loss: 6.404496402740478\n",
      "Training_loss: 3.2611775398254395\n",
      "Validation_loss: 6.560969324111938\n",
      "Training_loss: 3.043870210647583\n",
      "Validation_loss: 6.717608137130737\n",
      "Training_loss: 2.70745849609375\n",
      "Validation_loss: 6.871987266540527\n",
      "Training_loss: 2.25632905960083\n",
      "Validation_loss: 7.023963088989258\n"
     ]
    }
   ],
   "source": [
    "training_losses = []\n",
    "validation_losses = []\n",
    "\n",
    "for epoch in range(50): # Train for 50 epochs\n",
    "    model.train() # Enforce model training\n",
    "    for step, (x, y) in enumerate(train_loader):\n",
    "        x = x.to(device)\n",
    "        y = y.to(device)\n",
    "\n",
    "        output = model(x)\n",
    "\n",
    "        loss = loss_fn(output, y)\n",
    "\n",
    "        training_losses.append(loss.item())\n",
    "        print(loss.item(), end='\\r')\n",
    "\n",
    "        loss.backward() # Calculate gradients\n",
    "\n",
    "        optimizer.step() # Reward the model\n",
    "        optimizer.zero_grad() # Clean the gradients\n",
    "    print('Training_loss:', loss.item())\n",
    "\n",
    "    model.eval() # After every training epoch we want to see the model's performance on the validation data\n",
    "    with torch.no_grad(): # In validation we dont need gradients so we tell torch to not calculate them\n",
    "        total_val_loss = 0\n",
    "        for step, (x, y) in enumerate(val_loader):\n",
    "            x = x.to(device)\n",
    "            y = y.to(device)\n",
    "\n",
    "            output = model(x)\n",
    "\n",
    "            loss = loss_fn(output, y)\n",
    "\n",
    "            total_val_loss += loss.item()\n",
    "\n",
    "        validation_losses.append(total_val_loss / len(val_dataset))\n",
    "        print('Validation_loss:', validation_losses[-1])"
   ]
  },
  {
   "cell_type": "markdown",
   "metadata": {},
   "source": [
    "### Writing\n",
    "Below we can print the training statistics, the training loss should be going down while the validation loss should be going up. What does it mean that the validation loss increases?\n",
    "\n",
    "That means we are overfitting to the training set\n"
   ]
  },
  {
   "cell_type": "code",
   "execution_count": 10,
   "metadata": {},
   "outputs": [
    {
     "data": {
      "image/png": "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",
      "text/plain": [
       "<Figure size 960x720 with 1 Axes>"
      ]
     },
     "metadata": {},
     "output_type": "display_data"
    }
   ],
   "source": [
    "plt.rcParams['figure.dpi'] = 150\n",
    "plt.plot(training_losses)\n",
    "plt.xlabel('steps')\n",
    "plt.ylabel('loss')\n",
    "plt.title('Training Loss')\n",
    "plt.savefig('./results/training_loss.png')"
   ]
  },
  {
   "cell_type": "code",
   "execution_count": 11,
   "metadata": {},
   "outputs": [
    {
     "data": {
      "image/png": "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",
      "text/plain": [
       "<Figure size 960x720 with 1 Axes>"
      ]
     },
     "metadata": {},
     "output_type": "display_data"
    }
   ],
   "source": [
    "plt.plot(validation_losses)\n",
    "plt.xlabel('steps')\n",
    "plt.ylabel('loss')\n",
    "plt.title('Validation Loss')\n",
    "plt.savefig('./results/validation_loss.png')"
   ]
  },
  {
   "cell_type": "markdown",
   "metadata": {},
   "source": [
    "### Writing\n",
    "Belowe we want to analyze how the model functions based on the test data. What stands out from these results? Was the result correct? What is the main difference between the words?\n",
    "\n",
    "None of the predicted words is correct. This is expected as the model has never even seen the indeces of the test set. The general letter composition is similar though."
   ]
  },
  {
   "cell_type": "code",
   "execution_count": 12,
   "metadata": {},
   "outputs": [
    {
     "name": "stdout",
     "output_type": "stream",
     "text": [
      "target: middle               predicted: demoralized\n",
      "target: swatches             predicted: shacks\n",
      "target: impinge              predicted: limping\n",
      "target: academeh             predicted: ahead\n",
      "target: farmers              predicted: Remarks\n",
      "target: Chickens             predicted: choices\n",
      "target: Hettie               predicted: tektite\n",
      "target: Cervantes'           predicted: nectaries\n",
      "target: comprehensively      predicted: Comprehensive\n",
      "target: speeded              predicted: Seed\n"
     ]
    },
    {
     "name": "stderr",
     "output_type": "stream",
     "text": [
      "/tmp/ipykernel_400918/2019737341.py:7: UserWarning: Implicit dimension choice for softmax has been deprecated. Change the call to include dim=X as an argument.\n",
      "  out = [nn.functional.softmax(model(wrd)).argmax() for wrd in x]\n"
     ]
    }
   ],
   "source": [
    "def get_n_words(dataset, n, model, ds, verbose = True):\n",
    "    if n == -1:\n",
    "        n = len(dataset)\n",
    "    x = [dataset.__getitem__(i)[0] for i in range(n)]\n",
    "    y = [dataset.__getitem__(i)[1] for i in range(n)]\n",
    "    target_words = [{idx: word for word, idx in ds.word_to_idx.items()}[_.item()] for _ in y]\n",
    "    out = [nn.functional.softmax(model(wrd)).argmax() for wrd in x]\n",
    "    predicted_words = [{idx: word for word, idx in ds.word_to_idx.items()}[_.item()] for _ in out]\n",
    "    width = max(len(word) for word in target_words) + 5\n",
    "    if verbose:\n",
    "        print('\\n'.join([f'target: {t.ljust(width)} predicted: {p}' for t, p in zip(target_words, predicted_words)]))\n",
    "    return target_words, predicted_words\n",
    "\n",
    "_,_ = get_n_words(test_dataset, 10, model, dataset)"
   ]
  },
  {
   "cell_type": "markdown",
   "metadata": {},
   "source": [
    "Why are some words incorrectly predicted?\n",
    "\n",
    "see above, the model doesnt know the indeces of the test set"
   ]
  },
  {
   "cell_type": "markdown",
   "metadata": {},
   "source": [
    "### Code + Written\n",
    "Research the Jaccard similarity metric for calculating the difference between the predicted word and the target word. Reference your sources and implement this metric in your code below. You can use the get_n_words function with n=-1 to get all the predicted and target words. Compare this method to similarity as measured with one of the word vector methods from A2, in writing and/or code.\n",
    "\n",
    "Our average cosine similarity is 0.76, but this is calculated on the 230 / 1000 test items that are frequent enough to appear in the small Word2Vec model. These tokens are also the ones the MLP predicts most accurately, so many pairs are identical and receive a cosine of 1."
   ]
  },
  {
   "cell_type": "code",
<<<<<<< Updated upstream
   "execution_count": null,
=======
   "execution_count": 13,
>>>>>>> Stashed changes
   "metadata": {},
   "outputs": [
    {
     "name": "stderr",
     "output_type": "stream",
     "text": [
      "/tmp/ipykernel_400918/2019737341.py:7: UserWarning: Implicit dimension choice for softmax has been deprecated. Change the call to include dim=X as an argument.\n",
      "  out = [nn.functional.softmax(model(wrd)).argmax() for wrd in x]\n"
     ]
    },
    {
     "name": "stdout",
     "output_type": "stream",
     "text": [
      "Jaccard similarity: 0.5790523365523366\n"
     ]
    }
   ],
   "source": [
    "# compare with jaccard similarity\n",
    "# from https://mayurdhvajsinhjadeja.medium.com/jaccard-similarity-34e2c15fb524\n",
    "target_words,predicted_words = get_n_words(test_dataset, -1, model, dataset,verbose=False)\n",
    "def jaccard_similarity(w1, w2):\n",
    "    set1 = set(w1)\n",
    "    set2 = set(w2)\n",
    "    return len(set1.intersection(set2)) / len(set1.union(set2))\n",
    "similarities = [jaccard_similarity(t, p) for t, p in zip(target_words, predicted_words)]\n",
    "print(f'Jaccard similarity: {sum(similarities) / len(similarities)}')"
   ]
  },
  {
   "cell_type": "code",
   "execution_count": 14,
   "metadata": {},
   "outputs": [
    {
     "name": "stderr",
     "output_type": "stream",
     "text": [
      "/tmp/ipykernel_400918/2019737341.py:7: UserWarning: Implicit dimension choice for softmax has been deprecated. Change the call to include dim=X as an argument.\n",
      "  out = [nn.functional.softmax(model(wrd)).argmax() for wrd in x]\n"
     ]
    },
    {
     "name": "stdout",
     "output_type": "stream",
     "text": [
      "Average cosine similarity (Word2Vec): 0.7555 over 230 pairs\n"
     ]
    }
   ],
   "source": [
    "from nltk.corpus import brown\n",
    "from gensim.models import Word2Vec\n",
    "import numpy as np\n",
    "from numpy.linalg import norm\n",
    "\n",
    "sentences = [[w.lower() for w in sent] for sent in brown.sents()]\n",
    "\n",
    "w2v = Word2Vec(\n",
    "    sentences,\n",
    "    vector_size=100,\n",
    "    window=5,\n",
    "    min_count=3,\n",
    "    workers=4,\n",
    "    seed=42,\n",
    "    epochs=5\n",
    ")\n",
    "\n",
    "def get_vec(w):\n",
    "    return w2v.wv[w] if w in w2v.wv else None\n",
    "\n",
    "def cosine(u, v):\n",
    "    return np.dot(u, v) / (norm(u) * norm(v))\n",
    "\n",
    "target_words, predicted_words = get_n_words(test_dataset, -1, model, dataset, verbose=False)\n",
    "\n",
    "cos_sims = []\n",
    "for t, p in zip(target_words, predicted_words):\n",
    "    vt, vp = get_vec(t.lower()), get_vec(p.lower())\n",
    "    if vt is not None and vp is not None:\n",
    "        cos_sims.append(cosine(vt, vp))\n",
    "\n",
    "print(f'Average cosine similarity (Word2Vec): {np.mean(cos_sims):.4f} over {len(cos_sims)} pairs')\n"
   ]
  }
 ],
 "metadata": {
  "kernelspec": {
   "display_name": "base",
   "language": "python",
   "name": "python3"
  },
  "language_info": {
   "codemirror_mode": {
    "name": "ipython",
    "version": 3
   },
   "file_extension": ".py",
   "mimetype": "text/x-python",
   "name": "python",
   "nbconvert_exporter": "python",
   "pygments_lexer": "ipython3",
   "version": "3.12.2"
  }
 },
 "nbformat": 4,
 "nbformat_minor": 2
}
